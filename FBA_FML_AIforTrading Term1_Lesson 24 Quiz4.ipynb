{
 "cells": [
  {
   "cell_type": "markdown",
   "id": "a50c5db2",
   "metadata": {},
   "source": [
    "## Quiz 1: calculate portfolio variance\n",
    "\n",
    "We'll choose stock weights for now (in a later lesson, you'll learn how to use portfolio optimization that uses alpha factors and a risk factor model to choose stock weights).\n",
    "\n",
    "$\\textrm{Var}(r_p) = x_{1}^{2} \\textrm{Var}(r_1) + x_{2}^{2} \\textrm{Var}(r_2) + 2x_{1}x_{2}\\textrm{Cov}(r_{1},r_{2})$ "
   ]
  },
  {
   "cell_type": "code",
   "execution_count": null,
   "id": "e4eb69fa",
   "metadata": {},
   "outputs": [],
   "source": [
    "weight_1 = 0.60\n",
    "weight_2 = 0.40\n",
    "\n",
    "# TODO: calculate portfolio variance\n",
    "var_portfolio = weight_1**2 * var_asset_1 + \\\n",
    "                weight_2**2 * var_asset_2 + \\\n",
    "                2*weight_1*weight_2*cov_asset_1_2\n",
    "print(f\"variance of portfolio is {var_portfolio:.8f}\")"
   ]
  },
  {
   "cell_type": "markdown",
   "id": "5cd94922",
   "metadata": {},
   "source": [
    "## Quiz 2: Do it with Matrices!\n",
    "\n",
    "Create matrices $\\mathbf{F}$, $\\mathbf{B}$ and $\\mathbf{S}$, where  \n",
    "$\\mathbf{F}= \\begin{pmatrix}\n",
    "\\textrm{Var}(f_1) & \\textrm{Cov}(f_1,f_2) \\\\ \n",
    "\\textrm{Cov}(f_2,f_1) & \\textrm{Var}(f_2) \n",
    "\\end{pmatrix}$\n",
    "is the covariance matrix of factors,  \n",
    "\n",
    "$\\mathbf{B} = \\begin{pmatrix}\n",
    "\\beta_{1,1}, \\beta_{1,2}\\\\ \n",
    "\\beta_{2,1}, \\beta_{2,2}\n",
    "\\end{pmatrix}$ \n",
    "is the matrix of factor exposures, and  \n",
    "\n",
    "$\\mathbf{S} = \\begin{pmatrix}\n",
    "\\textrm{Var}(s_i) & 0\\\\ \n",
    "0 & \\textrm{Var}(s_j)\n",
    "\\end{pmatrix}$\n",
    "is the matrix of specific variances.  \n",
    "\n",
    "$\\mathbf{X} = \\begin{pmatrix}\n",
    "x_{1} \\\\\n",
    "x_{2}\n",
    "\\end{pmatrix}$\n",
    "\n",
    "### Concept Question\n",
    "What are the dimensions of the $\\textrm{Var}(r_p)$ portfolio variance?  Given this, when choosing whether to multiply a row vector or a column vector on the left and right sides of the $\\mathbf{BFB}^T$, which choice helps you get the dimensions of the portfolio variance term?\n",
    "\n",
    "In other words:\n",
    "Given that $\\mathbf{X}$ is a column vector, which makes more sense?\n",
    "\n",
    "$\\mathbf{X}^T(\\mathbf{BFB}^T + \\mathbf{S})\\mathbf{X}$ ?  \n",
    "or  \n",
    "$\\mathbf{X}(\\mathbf{BFB}^T + \\mathbf{S})\\mathbf{X}^T$ ?  "
   ]
  },
  {
   "cell_type": "markdown",
   "id": "e7b20d0d",
   "metadata": {},
   "source": [
    "## Answer 2\n",
    "\n",
    "Since the portfolio variance is 1 by 1 (it's a scalar), we want the matrix multiplications to create a 1 by 1 output as well.  This means we should put the row vector  \n",
    "$\\mathbf{X}^T = \\begin{pmatrix}\n",
    "x_{i} &  x_{j}\n",
    "\\end{pmatrix}$  \n",
    "On the left, and put the column vector  \n",
    "$\\mathbf{X} = \\begin{pmatrix}\n",
    "x_{i}\\\\ \n",
    "x_{j}\n",
    "\\end{pmatrix}$  \n",
    "On the right.\n",
    "\n",
    "So we should use:\n",
    "\n",
    "$\\mathbf{X}^T(\\mathbf{BFB}^T + \\mathbf{S})\\mathbf{X}$ ?  "
   ]
  },
  {
   "cell_type": "markdown",
   "id": "be1c03a9",
   "metadata": {},
   "source": [
    "## Quiz 3: Calculate portfolio variance using matrices"
   ]
  },
  {
   "cell_type": "code",
   "execution_count": null,
   "id": "50ed8f49",
   "metadata": {},
   "outputs": [],
   "source": [
    "# TODO: covariance matrix of factors\n",
    "F = covm_f1_f2\n",
    "F"
   ]
  },
  {
   "cell_type": "code",
   "execution_count": null,
   "id": "f7a1ff8d",
   "metadata": {},
   "outputs": [],
   "source": [
    "# TODO: matrix of factor exposures\n",
    "B = factor_exposure_a\n",
    "B"
   ]
  },
  {
   "cell_type": "code",
   "execution_count": null,
   "id": "ce9c0d5b",
   "metadata": {},
   "outputs": [],
   "source": [
    "# TODO: matrix of specific variances\n",
    "S = np.diag([var_s_1,var_s_2])\n",
    "S"
   ]
  },
  {
   "cell_type": "markdown",
   "id": "c893f923",
   "metadata": {},
   "source": [
    "#### Hint for column vectors\n",
    "Try using [reshape](https://docs.scipy.org/doc/numpy-1.15.1/reference/generated/numpy.reshape.html)"
   ]
  },
  {
   "cell_type": "code",
   "execution_count": null,
   "id": "4f81dc20",
   "metadata": {},
   "outputs": [],
   "source": [
    "# TODO: make a column vector for stock weights matrix X\n",
    "X = np.array([weight_1,weight_2]).reshape(2,1)\n",
    "X"
   ]
  },
  {
   "cell_type": "code",
   "execution_count": null,
   "id": "7b3c3284",
   "metadata": {},
   "outputs": [],
   "source": [
    "# TODO: covariance matrix of assets\n",
    "var_portfolio = X.T.dot(B.dot(F).dot(B.T) + S).dot(X)\n",
    "print(f\"portfolio variance is \\n{var_portfolio[0][0]:.8f}\")"
   ]
  }
 ],
 "metadata": {
  "kernelspec": {
   "display_name": "Python 3 (ipykernel)",
   "language": "python",
   "name": "python3"
  },
  "language_info": {
   "codemirror_mode": {
    "name": "ipython",
    "version": 3
   },
   "file_extension": ".py",
   "mimetype": "text/x-python",
   "name": "python",
   "nbconvert_exporter": "python",
   "pygments_lexer": "ipython3",
   "version": "3.8.5"
  }
 },
 "nbformat": 4,
 "nbformat_minor": 5
}
