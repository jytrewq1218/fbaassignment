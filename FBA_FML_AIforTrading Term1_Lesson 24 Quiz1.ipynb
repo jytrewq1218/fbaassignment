{
 "cells": [
  {
   "cell_type": "markdown",
   "id": "e534ec1a",
   "metadata": {},
   "source": [
    "## Quiz 1\n",
    "\n",
    "Check out the [numpy.cov documentation](https://docs.scipy.org/doc/numpy-1.15.0/reference/generated/numpy.cov.html).  Then think about what's wrong with the following use of numpy.cov"
   ]
  },
  {
   "cell_type": "code",
   "execution_count": null,
   "id": "336ca933",
   "metadata": {},
   "outputs": [],
   "source": [
    "# What's wrong with this?\n",
    "annualization_factor = 252\n",
    "covariance_assets_not_correct = annualization_factor*np.cov(returns_df)"
   ]
  },
  {
   "cell_type": "code",
   "execution_count": null,
   "id": "e5c72c0e",
   "metadata": {},
   "outputs": [],
   "source": [
    "## TODO: Check the shape of the covariance matrix\n",
    "\n",
    "covariance_assets_not_correct.shape"
   ]
  },
  {
   "cell_type": "markdown",
   "id": "e24fa63c",
   "metadata": {},
   "source": [
    "## Answer 1\n",
    "\n",
    "Notice that the dimensions are 1256 by 1256, which is the number of observations for each stock.  We are expecting a matrix of 490 by 490, since that's how many stocks that are stored in the dataframe."
   ]
  },
  {
   "cell_type": "markdown",
   "id": "a1783c41",
   "metadata": {},
   "source": [
    "## Quiz 2\n",
    "How can you adjust the input so that we get the desired covariance matrix of assets?"
   ]
  },
  {
   "cell_type": "code",
   "execution_count": null,
   "id": "a8fac7d8",
   "metadata": {},
   "outputs": [],
   "source": [
    "## Quiz 2\n",
    "How can you adjust the input so that we get the desired covariance matrix of assets?"
   ]
  },
  {
   "cell_type": "code",
   "execution_count": null,
   "id": "08f1e49f",
   "metadata": {},
   "outputs": [],
   "source": [
    "covariance_assets.shape"
   ]
  },
  {
   "cell_type": "markdown",
   "id": "bee26519",
   "metadata": {},
   "source": [
    "## Answer 2\n",
    "Since the documentation expects each row to represent a variable (one stock), we can transpose the dataframe before passing it into the `numpy.cov` function.  So now we have a covariance matrix that's 490 by 490."
   ]
  },
  {
   "cell_type": "markdown",
   "id": "e3a0543f",
   "metadata": {},
   "source": [
    "## Visualize the covariance matrix"
   ]
  },
  {
   "cell_type": "code",
   "execution_count": null,
   "id": "6e3d8f8d",
   "metadata": {},
   "outputs": [],
   "source": [
    "import seaborn as sns\n",
    "# view a heatmap of the covariance matrix\n",
    "sns.heatmap(covariance_assets,cmap='Paired');\n",
    "## If the colors aren't distinctive, please try a couple of these color schemes:\n",
    "## cmap = 'tab10'\n",
    "# cmap = 'Accent'"
   ]
  },
  {
   "cell_type": "markdown",
   "id": "86e59a20",
   "metadata": {},
   "source": [
    "## Quiz 3\n",
    "Looking at the colormap are covariances more likely to be positive or negative?  Are covariances likely to be above 0.10 or below 0.10?"
   ]
  },
  {
   "cell_type": "markdown",
   "id": "66610388",
   "metadata": {},
   "source": [
    "## Answer 3\n",
    "The colormap range is mostly positive, from 0 to 0.30+, so covariances are more likely to be positive than negative.  In other words, stocks move with the market.  Also, the covariances are mostly below 0.10 rather than higher than 0.10."
   ]
  },
  {
   "cell_type": "markdown",
   "id": "6ebb984a",
   "metadata": {},
   "source": [
    "## Fun Quiz!\n",
    "Do you know what the [seaborn visualization package](https://seaborn.pydata.org/index.html) was named after?"
   ]
  },
  {
   "cell_type": "markdown",
   "id": "fabbe441",
   "metadata": {},
   "source": [
    "## Fun Answer!\n",
    "The seaborn package is named after \"Samuel Norman Seaborn\", a fictional character from the [TV Series \"The West Wing\"].(https://en.wikipedia.org/wiki/Sam_Seaborn)"
   ]
  },
  {
   "cell_type": "code",
   "execution_count": null,
   "id": "0e936036",
   "metadata": {},
   "outputs": [],
   "source": []
  }
 ],
 "metadata": {
  "kernelspec": {
   "display_name": "Python 3 (ipykernel)",
   "language": "python",
   "name": "python3"
  },
  "language_info": {
   "codemirror_mode": {
    "name": "ipython",
    "version": 3
   },
   "file_extension": ".py",
   "mimetype": "text/x-python",
   "name": "python",
   "nbconvert_exporter": "python",
   "pygments_lexer": "ipython3",
   "version": "3.8.5"
  }
 },
 "nbformat": 4,
 "nbformat_minor": 5
}
