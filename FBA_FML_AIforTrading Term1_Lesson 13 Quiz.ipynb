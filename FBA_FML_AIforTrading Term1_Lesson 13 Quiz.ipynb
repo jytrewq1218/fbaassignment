{
 "cells": [
  {
   "cell_type": "markdown",
   "metadata": {},
   "source": [
    "## Quiz Solution: ARIMA\n",
    "\n",
    "Fit an autoregressive integrated moving average model.  Choose an order of integration of 1, autoregresion lag of 1, and moving average lag of 1.\n",
    "\n",
    "Check out the [stats model arima](http://www.statsmodels.org/0.6.1/generated/statsmodels.tsa.arima_model.ARMAResults.html) documentation to help you."
   ]
  },
  {
   "cell_type": "code",
   "execution_count": null,
   "metadata": {},
   "outputs": [],
   "source": [
    "def fit_arima(lret):\n",
    "    \n",
    "    #TODO: choose autoregression lag of 1\n",
    "    AR_lag_p = 1\n",
    "    \n",
    "    #TODO: choose moving average lag of 1\n",
    "    MA_lag_q = 1\n",
    "    \n",
    "    #TODO: choose order of integration 1\n",
    "    order_of_integration_d = 1\n",
    "    \n",
    "    #TODO: Create a tuple of p,d,q\n",
    "    order = (AR_lag_p, order_of_integration_d, MA_lag_q)\n",
    "    \n",
    "    #TODO: create an ARIMA model object, passing in the values of the lret pandas series,\n",
    "    # and the tuple containing the (p,d,q) order arguments\n",
    "    arima_model = ARIMA(lret.values, order=order)\n",
    "    arima_result = arima_model.fit()\n",
    "    \n",
    "    #TODO: from the result of calling ARIMA.fit(),\n",
    "    # save and return the fitted values, autoregression parameters, and moving average parameters\n",
    "    fittedvalues = arima_result.fittedvalues\n",
    "    arparams = arima_result.arparams\n",
    "    maparams = arima_result.maparams\n",
    "   \n",
    "    return fittedvalues,arparams,maparams\n",
    "\n",
    "quiz_tests.test_fit_arima(fit_arima)"
   ]
  },
  {
   "cell_type": "code",
   "execution_count": null,
   "metadata": {},
   "outputs": [],
   "source": [
    "fittedvalues,arparams,maparams = fit_arima(lret)\n",
    "arima_pred = pd.Series(fittedvalues)\n",
    "plt.plot(lret, color=sns.xkcd_rgb[\"pale purple\"])\n",
    "plt.plot(arima_pred, color=sns.xkcd_rgb[\"jade green\"])\n",
    "plt.title('Log Returns and predictions using an ARIMA(p=1,d=1,q=1) model');\n",
    "print(f\"fitted AR parameter {arparams[0]:.2f}, MA parameter {maparams[0]:.2f}\")"
   ]
  }
 ],
 "metadata": {
  "kernelspec": {
   "display_name": "Python 3",
   "language": "python",
   "name": "python3"
  },
  "language_info": {
   "codemirror_mode": {
    "name": "ipython",
    "version": 3
   },
   "file_extension": ".py",
   "mimetype": "text/x-python",
   "name": "python",
   "nbconvert_exporter": "python",
   "pygments_lexer": "ipython3",
   "version": "3.8.5"
  }
 },
 "nbformat": 4,
 "nbformat_minor": 4
}
